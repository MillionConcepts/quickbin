{
 "cells": [
  {
   "cell_type": "code",
   "execution_count": null,
   "id": "0cf4e30b-23f0-4094-8089-9fbbcfe3a4a2",
   "metadata": {},
   "outputs": [],
   "source": [
    "from itertools import chain, combinations, product\n",
    "import json\n",
    "\n",
    "import numpy as np\n",
    "from scipy.stats import binned_statistic_2d\n",
    "from quickbin import bin2d\n",
    "from quickbin.definitions import check_ops, Ops \n",
    "from quickbin.benchmarks.benchmark import benchmark"
   ]
  },
  {
   "cell_type": "code",
   "execution_count": null,
   "id": "1e39b6f2-944c-44d9-a527-cd358986857b",
   "metadata": {},
   "outputs": [],
   "source": [
    "all_ops = chain(\n",
    "    ((o,) for o in Ops),\n",
    "    combinations((Ops.count, Ops.sum, Ops.mean), 2),\n",
    "    combinations((Ops.count, Ops.sum, Ops.mean, Ops.std), 3),\n",
    "    ((Ops.count, Ops.sum, Ops.mean, Ops.std), (Ops.min, Ops.max))\n",
    ")\n",
    "all_ops = tuple(map(Ops, map(sum, all_ops)))\n",
    "assert all(map(check_ops, all_ops))\n",
    "\n",
    "base_sizes = np.array([1000, 2000, 10000, 20000, 50000])\n",
    "sizes = np.hstack([base_sizes, base_sizes * 100, base_sizes * 10000])\n",
    "bincounts = (10, 25, 50, 100, 250, 500, 1000, 1500)\n",
    "\n",
    "recs = []"
   ]
  },
  {
   "cell_type": "code",
   "execution_count": null,
   "id": "3b017fa3-de35-4227-91c8-bd55a15f3cc2",
   "metadata": {},
   "outputs": [],
   "source": [
    "# with open(\"benchmarks_1.json\") as stream:\n",
    "#     recs = json.load(stream)"
   ]
  },
  {
   "cell_type": "code",
   "execution_count": null,
   "id": "fad473a3-a44d-47ef-879e-eadef6839114",
   "metadata": {
    "scrolled": true
   },
   "outputs": [],
   "source": [
    "checkmem = False\n",
    "min_memcheck_size = 1000 * 1000 ** 2\n",
    "for size, n_bins, ops in product(sizes, bincounts, all_ops):\n",
    "    # we can just sum the scipy runtimes for multiple ops.\n",
    "    which = (\"quickbin\",) if ops.bit_count() > 1 else (\"quickbin\", \"scipy\")\n",
    "    if size <= 50000:\n",
    "        n_iter = 25\n",
    "    elif size < 5000000:\n",
    "        n_iter = 10\n",
    "    else:\n",
    "        n_iter = 2\n",
    "    baserec = {\n",
    "        'size': int(size),\n",
    "        'n_bins': n_bins,\n",
    "        'ops': ops.name,\n",
    "        'n_iter': n_iter,\n",
    "        'checkmem': checkmem\n",
    "    }\n",
    "    if any(\n",
    "        all(baserec[k] == rec.get(k) for k in baserec.keys())\n",
    "        for rec in recs\n",
    "    ):\n",
    "        continue\n",
    "    # this is a weird situation that is not _entirely_ useless but\n",
    "    # generally unlikely to occur in the wild.\n",
    "    if n_bins ** 2 > size:\n",
    "        continue\n",
    "    if checkmem is True and (n_bins ** 2 + size * 3) * 8 < min_memcheck_size:\n",
    "        continue\n",
    "    print(f\"\\n----size {size}, n_bins {n_bins}, ops {ops.name}----\\n\")\n",
    "    rec = benchmark(\n",
    "        size=size,\n",
    "        n_bins=n_bins,\n",
    "        ops=ops,\n",
    "        which=which,\n",
    "        n_iter=n_iter,\n",
    "        checkmem=checkmem,\n",
    "        verbose=True\n",
    "    ) | baserec | {'ops': ops.name}\n",
    "    recs.append(rec)"
   ]
  },
  {
   "cell_type": "code",
   "execution_count": null,
   "id": "2dcbb590-4be2-48d9-ac58-037740e266c7",
   "metadata": {},
   "outputs": [],
   "source": [
    "with open(\"benchmarks_1.json\", \"w\") as stream:\n",
    "    json.dump(recs, stream)"
   ]
  }
 ],
 "metadata": {
  "kernelspec": {
   "display_name": "Python 3 (ipykernel)",
   "language": "python",
   "name": "python3"
  },
  "language_info": {
   "codemirror_mode": {
    "name": "ipython",
    "version": 3
   },
   "file_extension": ".py",
   "mimetype": "text/x-python",
   "name": "python",
   "nbconvert_exporter": "python",
   "pygments_lexer": "ipython3",
   "version": "3.12.5"
  }
 },
 "nbformat": 4,
 "nbformat_minor": 5
}
